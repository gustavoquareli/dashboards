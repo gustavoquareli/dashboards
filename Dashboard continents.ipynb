{
 "cells": [
  {
   "cell_type": "code",
   "execution_count": 1,
   "metadata": {},
   "outputs": [],
   "source": [
    "#importando as bibliotecas\n",
    "\n",
    "import dash\n",
    "from dash import dcc\n",
    "from dash import html\n",
    "from dash.dependencies import Input, Output\n",
    "\n",
    "import plotly.graph_objs as go\n",
    "\n",
    "import pandas as pd\n",
    "import math\n",
    "from datetime import datetime"
   ]
  },
  {
   "cell_type": "code",
   "execution_count": 2,
   "metadata": {},
   "outputs": [],
   "source": [
    "#lendo os dados\n",
    "pop = pd.read_csv(\"datasets/population.csv\")\n",
    "\n",
    "#removendo as colunas que nao serao uteis ao dashboard\n",
    "columns_removed = pop.columns[[0,1,2,3,4,14,15,16,17]]\n",
    "pop_droped = pop.drop(columns_removed, axis=1)"
   ]
  },
  {
   "cell_type": "code",
   "execution_count": 3,
   "metadata": {},
   "outputs": [],
   "source": [
    "# creating the dataframe urbanization\n",
    "columns = ['continent', 'year', 'population']\n",
    "urbanization = pd.DataFrame(columns=columns)\n",
    "\n",
    "# creating the Series of years\n",
    "years = pd.Series([2022, 2020, 2015, 2010, 2000, 1990, 1980, 1970])\n",
    "\n",
    "new_rows = []\n",
    "\n",
    "# iterate over the rows of pop_droped dataframe\n",
    "for row in pop_droped.index:\n",
    "\n",
    "    continent = pop_droped.loc[row, 'Continent']\n",
    "    \n",
    "    x=1\n",
    "\n",
    "    # iterate over the years\n",
    "    for year in years:\n",
    "        \n",
    "        population = pop_droped.iloc[row, x]\n",
    "        # append the data to the urbanization dataframe\n",
    "        new_rows.append({'continent': continent, 'year': year, 'population': population})\n",
    "        x+=1\n",
    "        \n",
    "df_new_rows = pd.DataFrame(new_rows)\n",
    "\n",
    "urbanization = pd.concat([urbanization, df_new_rows], ignore_index=True)\n"
   ]
  }
 ],
 "metadata": {
  "kernelspec": {
   "display_name": "projeto",
   "language": "python",
   "name": "python3"
  },
  "language_info": {
   "codemirror_mode": {
    "name": "ipython",
    "version": 3
   },
   "file_extension": ".py",
   "mimetype": "text/x-python",
   "name": "python",
   "nbconvert_exporter": "python",
   "pygments_lexer": "ipython3",
   "version": "3.12.3"
  }
 },
 "nbformat": 4,
 "nbformat_minor": 2
}
