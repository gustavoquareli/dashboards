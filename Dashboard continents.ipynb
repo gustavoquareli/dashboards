{
 "cells": [
  {
   "cell_type": "code",
   "execution_count": 2,
   "metadata": {},
   "outputs": [],
   "source": [
    "#importando as bibliotecas\n",
    "\n",
    "import dash\n",
    "from dash import dcc\n",
    "from dash import html\n",
    "from dash.dependencies import Input, Output\n",
    "\n",
    "import plotly.graph_objs as go\n",
    "\n",
    "import pandas as pd\n",
    "import math\n",
    "from datetime import datetime"
   ]
  },
  {
   "cell_type": "code",
   "execution_count": 3,
   "metadata": {},
   "outputs": [],
   "source": [
    "#lendo os dados\n",
    "pop = pd.read_csv(\"datasets/population.csv\")\n",
    "\n",
    "#removendo as colunas que nao serao uteis ao dashboard\n",
    "columns_removed = pop.columns[[0,1,2,3,4,14,15,16,17]]\n",
    "pop_droped = pop.drop(columns_removed, axis=1)"
   ]
  },
  {
   "cell_type": "code",
   "execution_count": 4,
   "metadata": {},
   "outputs": [],
   "source": [
    "# creating the dataframe urbanization\n",
    "columns = ['continent', 'year', 'population']\n",
    "urbanization = pd.DataFrame(columns=columns)\n",
    "\n",
    "# creating the Series of years\n",
    "years = pd.Series([2022, 2020, 2015, 2010, 2000, 1990, 1980, 1970])\n",
    "\n",
    "new_rows = []\n",
    "\n",
    "# iterate over the rows of pop_droped dataframe\n",
    "for row in pop_droped.index:\n",
    "\n",
    "    continent = pop_droped.loc[row, 'Continent']\n",
    "    \n",
    "    x=1\n",
    "\n",
    "    # iterate over the years\n",
    "    for year in years:\n",
    "        \n",
    "        population = pop_droped.iloc[row, x]\n",
    "        # append the data to the urbanization dataframe\n",
    "        new_rows.append({'continent': continent, 'year': year, 'population': population})\n",
    "        x+=1\n",
    "        \n",
    "df_new_rows = pd.DataFrame(new_rows)\n",
    "\n",
    "urbanization = pd.concat([urbanization, df_new_rows], ignore_index=True)\n"
   ]
  },
  {
   "cell_type": "code",
   "execution_count": 5,
   "metadata": {},
   "outputs": [],
   "source": [
    "urbanization['year'] = pd.to_datetime(urbanization['year'], format = '%Y')\n",
    "urbanization['population'] = urbanization['population'].astype(int)"
   ]
  },
  {
   "cell_type": "code",
   "execution_count": 6,
   "metadata": {},
   "outputs": [
    {
     "data": {
      "text/html": [
       "<div>\n",
       "<style scoped>\n",
       "    .dataframe tbody tr th:only-of-type {\n",
       "        vertical-align: middle;\n",
       "    }\n",
       "\n",
       "    .dataframe tbody tr th {\n",
       "        vertical-align: top;\n",
       "    }\n",
       "\n",
       "    .dataframe thead th {\n",
       "        text-align: right;\n",
       "    }\n",
       "</style>\n",
       "<table border=\"1\" class=\"dataframe\">\n",
       "  <thead>\n",
       "    <tr style=\"text-align: right;\">\n",
       "      <th></th>\n",
       "      <th>continent</th>\n",
       "      <th>year</th>\n",
       "      <th>population</th>\n",
       "    </tr>\n",
       "  </thead>\n",
       "  <tbody>\n",
       "    <tr>\n",
       "      <th>0</th>\n",
       "      <td>Asia</td>\n",
       "      <td>2022-01-01</td>\n",
       "      <td>1425887337</td>\n",
       "    </tr>\n",
       "    <tr>\n",
       "      <th>1</th>\n",
       "      <td>Asia</td>\n",
       "      <td>2020-01-01</td>\n",
       "      <td>1424929781</td>\n",
       "    </tr>\n",
       "    <tr>\n",
       "      <th>2</th>\n",
       "      <td>Asia</td>\n",
       "      <td>2015-01-01</td>\n",
       "      <td>1393715448</td>\n",
       "    </tr>\n",
       "    <tr>\n",
       "      <th>3</th>\n",
       "      <td>Asia</td>\n",
       "      <td>2010-01-01</td>\n",
       "      <td>1348191368</td>\n",
       "    </tr>\n",
       "    <tr>\n",
       "      <th>4</th>\n",
       "      <td>Asia</td>\n",
       "      <td>2000-01-01</td>\n",
       "      <td>1264099069</td>\n",
       "    </tr>\n",
       "  </tbody>\n",
       "</table>\n",
       "</div>"
      ],
      "text/plain": [
       "  continent       year  population\n",
       "0      Asia 2022-01-01  1425887337\n",
       "1      Asia 2020-01-01  1424929781\n",
       "2      Asia 2015-01-01  1393715448\n",
       "3      Asia 2010-01-01  1348191368\n",
       "4      Asia 2000-01-01  1264099069"
      ]
     },
     "execution_count": 6,
     "metadata": {},
     "output_type": "execute_result"
    }
   ],
   "source": [
    "urbanization.head(5)"
   ]
  },
  {
   "cell_type": "code",
   "execution_count": 15,
   "metadata": {},
   "outputs": [],
   "source": [
    "#identificando os continentes\n",
    "continents = ['Africa', 'Asia', 'Oceania', 'Europe', 'North America', 'South America']\n",
    "\n",
    "#population_by_year é a somatoria da populacao de cada continente por ano\n",
    "population_by_year = (urbanization.query('continent.isin(@continents)').groupby(['continent','year']).agg({'population':'sum'}).reset_index())\n",
    "\n",
    "#criando um grafico de linhas para a o crescimento populacional dos continentes\n",
    "population_by_year_lines = []\n",
    "for region in population_by_year['continent'].unique():\n",
    "    current = population_by_year.query('continent ==@region')\n",
    "    population_by_year_lines += [go.Scatter(x = current['year'], \n",
    "                                           y = current['population'], \n",
    "                                           mode = 'lines',\n",
    "                                           name = region)]\n",
    "\n",
    "#o mesmo gráfico em áreas    \n",
    "population_by_year_areas = []\n",
    "for region in population_by_year['continent'].unique():\n",
    "    current = population_by_year.query('continent==@region')\n",
    "    population_by_year_areas += [go.Scatter(x = current['year'],\n",
    "                                            y = current['population'],\n",
    "                                            mode = 'lines',\n",
    "                                            stackgroup = 'one',\n",
    "                                            name = region)]\n",
    "\n",
    "#o mesmo grafico em disperssão\n",
    "population_by_year_scatter = []\n",
    "for region in population_by_year['continent'].unique():\n",
    "    current = population_by_year.query('continent==@region')\n",
    "    population_by_year_scatter += [go.Scatter(x = current['year'],\n",
    "                                              y = current['population'],\n",
    "                                              mode = 'markers',\n",
    "                                              name = region\n",
    "                                             )\n",
    "                                    ]"
   ]
  },
  {
   "cell_type": "code",
   "execution_count": 18,
   "metadata": {},
   "outputs": [
    {
     "data": {
      "text/html": [
       "\n",
       "        <iframe\n",
       "            width=\"100%\"\n",
       "            height=\"650\"\n",
       "            src=\"http://127.0.0.1:8050/\"\n",
       "            frameborder=\"0\"\n",
       "            allowfullscreen\n",
       "            \n",
       "        ></iframe>\n",
       "        "
      ],
      "text/plain": [
       "<IPython.lib.display.IFrame at 0x238e60fb8c0>"
      ]
     },
     "metadata": {},
     "output_type": "display_data"
    }
   ],
   "source": [
    "#definindo layout\n",
    "external_stylesheets = ['<https://codepen.io/chriddyp/pen/bWLwgP.css>']\n",
    "app = dash.Dash(__name__, external_stylesheets = external_stylesheets)\n",
    "app.layout = html.Div(children=[\n",
    "\n",
    "\n",
    "    #plotando o gráfico de linhas\n",
    "    html.Label('Line chart:'),\n",
    "    dcc.Graph(\n",
    "        figure = {'data': population_by_year_lines,\n",
    "                  'layout': go.Layout(xaxis = {'title':'Year'},\n",
    "                                      yaxis = {'title':'Population'})\n",
    "                    },\n",
    "        id = 'population_by_year_lines'\n",
    "    ),\n",
    "\n",
    "    #plotando o gráfico de areas\n",
    "    html.Label('Stacked area chart:'),\n",
    "    dcc.Graph(\n",
    "        figure = {'data': population_by_year_areas,\n",
    "                  'layout': go.Layout(xaxis = {'title': 'Year'},\n",
    "                                      yaxis = {'title': 'Population'})\n",
    "                    },\n",
    "        id = 'population_by_year_areas'\n",
    "    ),\n",
    "\n",
    "    #plotando o gráfico de dispersão\n",
    "    html.Label('Scatter ploy:'),\n",
    "    dcc.Graph(\n",
    "        figure = {'data':population_by_year_scatter,\n",
    "                  'layout': go.Layout(xaxis = {'title': 'Year'},\n",
    "                                      yaxis = {'title':'Population'})\n",
    "                    },\n",
    "        id = 'population_by_year_scatter'\n",
    "    ),\n",
    "\n",
    "])\n",
    "\n",
    "# lógica do dashboard\n",
    "if __name__ == '__main__':\n",
    "    app.run_server(debug=True)"
   ]
  }
 ],
 "metadata": {
  "kernelspec": {
   "display_name": "projeto",
   "language": "python",
   "name": "python3"
  },
  "language_info": {
   "codemirror_mode": {
    "name": "ipython",
    "version": 3
   },
   "file_extension": ".py",
   "mimetype": "text/x-python",
   "name": "python",
   "nbconvert_exporter": "python",
   "pygments_lexer": "ipython3",
   "version": "3.12.3"
  }
 },
 "nbformat": 4,
 "nbformat_minor": 2
}
